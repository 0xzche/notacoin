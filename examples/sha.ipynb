{
 "metadata": {
  "language_info": {
   "codemirror_mode": {
    "name": "ipython",
    "version": 3
   },
   "file_extension": ".py",
   "mimetype": "text/x-python",
   "name": "python",
   "nbconvert_exporter": "python",
   "pygments_lexer": "ipython3",
   "version": "3.7.3"
  },
  "orig_nbformat": 2,
  "kernelspec": {
   "name": "python3",
   "display_name": "Python 3.7.3 64-bit ('base': conda)"
  },
  "interpreter": {
   "hash": "3fda7653594d1eb02978d8a70597c2feac4fcd71e7728e3e1153ff41063dcc73"
  }
 },
 "nbformat": 4,
 "nbformat_minor": 2,
 "cells": [
  {
   "source": [
    "Lying in the center of bitcoin is SHA256, a hash function designed by NSA([National Security Agency](https://www.nsa.gov/)). The functioin is one of a set of functions SHA-2(Secure Hash Algorithm 2); it takes a string of arbitrary length as input, and outputs a integer of 256 bits, hence the name SHA256."
   ],
   "cell_type": "markdown",
   "metadata": {}
  },
  {
   "source": [
    "In this notebook, we implement the SHA256 function.\n",
    "\n",
    "First we define two vectors of constants, which are defined from digits of square roots and cubic roots of prime numbers."
   ],
   "cell_type": "markdown",
   "metadata": {}
  },
  {
   "cell_type": "code",
   "execution_count": 2,
   "metadata": {},
   "outputs": [],
   "source": [
    "# Initialize variables\n",
    "# first 32 bits of the fractional parts of the square roots of the first 8 primes 2..19\n",
    "# for example, sqrt(2) written in hexadecimal is 1.6a09e667..., so we take the first 8 digits of the fration part 6a09e667 as the first constant\n",
    "hs = [\n",
    "    0x6a09e667, \n",
    "    0xbb67ae85, \n",
    "    0x3c6ef372, \n",
    "    0xa54ff53a,\n",
    "    0x510e527f, \n",
    "    0x9b05688c, \n",
    "    0x1f83d9ab, \n",
    "    0x5be0cd19,\n",
    "]\n",
    "# Initialize table of round constants \n",
    "# first 32 bits of the fractional parts of the cube roots of the first 64 primes 2..311\n",
    "ks = [\n",
    "    0x428a2f98, 0x71374491, 0xb5c0fbcf, 0xe9b5dba5,\n",
    "    0x3956c25b, 0x59f111f1, 0x923f82a4, 0xab1c5ed5,\n",
    "    0xd807aa98, 0x12835b01, 0x243185be, 0x550c7dc3,\n",
    "    0x72be5d74, 0x80deb1fe, 0x9bdc06a7, 0xc19bf174,\n",
    "    0xe49b69c1, 0xefbe4786, 0x0fc19dc6, 0x240ca1cc,\n",
    "    0x2de92c6f, 0x4a7484aa, 0x5cb0a9dc, 0x76f988da,\n",
    "    0x983e5152, 0xa831c66d, 0xb00327c8, 0xbf597fc7,\n",
    "    0xc6e00bf3, 0xd5a79147, 0x06ca6351, 0x14292967,\n",
    "    0x27b70a85, 0x2e1b2138, 0x4d2c6dfc, 0x53380d13,\n",
    "    0x650a7354, 0x766a0abb, 0x81c2c92e, 0x92722c85,\n",
    "    0xa2bfe8a1, 0xa81a664b, 0xc24b8b70, 0xc76c51a3,\n",
    "    0xd192e819, 0xd6990624, 0xf40e3585, 0x106aa070,\n",
    "    0x19a4c116, 0x1e376c08, 0x2748774c, 0x34b0bcb5,\n",
    "    0x391c0cb3, 0x4ed8aa4a, 0x5b9cca4f, 0x682e6ff3,\n",
    "    0x748f82ee, 0x78a5636f, 0x84c87814, 0x8cc70208,\n",
    "    0x90befffa, 0xa4506ceb, 0xbef9a3f7, 0xc67178f2,\n",
    "]"
   ]
  },
  {
   "cell_type": "code",
   "execution_count": null,
   "metadata": {},
   "outputs": [],
   "source": []
  }
 ]
}